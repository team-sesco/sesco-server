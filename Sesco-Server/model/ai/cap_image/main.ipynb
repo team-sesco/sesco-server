{
 "cells": [
  {
   "cell_type": "code",
   "execution_count": 4,
   "id": "40b25ff1",
   "metadata": {},
   "outputs": [],
   "source": [
    "from inference import Inference\n",
    "import torch\n",
    "device = torch.device(\"cpu\")"
   ]
  },
  {
   "cell_type": "code",
   "execution_count": 6,
   "id": "f591c356",
   "metadata": {},
   "outputs": [
    {
     "name": "stdout",
     "output_type": "stream",
     "text": [
      "기학습 웨이트\n"
     ]
    },
    {
     "data": {
      "text/plain": [
       "'콩 불마름병'"
      ]
     },
     "execution_count": 6,
     "metadata": {},
     "output_type": "execute_result"
    }
   ],
   "source": [
    "img_path = 'D:\\\\노지 작물 질병 진단 이미지\\\\valid/images\\\\bean_0\\\\V006_79_1_13_08_03_12_1_1825w_20201124_2.jpg'\n",
    "crop_model = Inference(crop=8, device=device)\n",
    "crop_model.load_model()\n",
    "crop_model.predict(path=img_path)"
   ]
  }
 ],
 "metadata": {
  "kernelspec": {
   "display_name": "sh_torch",
   "language": "python",
   "name": "sh_torch"
  },
  "language_info": {
   "codemirror_mode": {
    "name": "ipython",
    "version": 3
   },
   "file_extension": ".py",
   "mimetype": "text/x-python",
   "name": "python",
   "nbconvert_exporter": "python",
   "pygments_lexer": "ipython3",
   "version": "3.8.13"
  }
 },
 "nbformat": 4,
 "nbformat_minor": 5
}
